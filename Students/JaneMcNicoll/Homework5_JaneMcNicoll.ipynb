{
 "cells": [
  {
   "cell_type": "code",
   "execution_count": 75,
   "metadata": {
    "collapsed": true
   },
   "outputs": [],
   "source": [
    "%matplotlib inline\n",
    "import numpy as np\n",
    "import matplotlib.pyplot as plt\n",
    "from scipy.integrate import quad"
   ]
  },
  {
   "cell_type": "markdown",
   "metadata": {},
   "source": [
    "**Problem 1:**"
   ]
  },
  {
   "cell_type": "markdown",
   "metadata": {},
   "source": [
    "**Using the Friedman equation find values of Ωm, Ωr, ΩΛ that will give rise to a**\n",
    "\n",
    "**(a) Loitering universe (use a universe with a positive matter density)**\n",
    "\n",
    "**(b) A big crunch universe**"
   ]
  },
  {
   "cell_type": "code",
   "execution_count": 76,
   "metadata": {
    "collapsed": true
   },
   "outputs": [],
   "source": [
    "def friedmann(Omega_r, Omega_m, Omega_l, a_t):\n",
    "    H = 70 * (3.15e16/3e19) \n",
    "    Omega_0 = Omega_r + Omega_m + Omega_l\n",
    "    H_t = H*((Omega_r*(a_t**(-4.0)) + Omega_m*(a_t**(-3.0)) + Omega_l + (1 - Omega_0)*(a_t**(-2.0)))**(0.5))\n",
    "    return H_t\n",
    "    \n",
    "def age(Omega_m, Omega_r, Omega_l, a_1, a_2):\n",
    "        H = 70 * (3.15e16/3e19) \n",
    "        a_t = np.linspace(a_1, a_2, 1000)\n",
    "        x = lambda a: (a*friedmann(Omega_r, Omega_m, Omega_l, a))**(-1.0)\n",
    "        t = np.asarray([quad(x, a_1, i)[0] for i in a_t]) \n",
    "        return t"
   ]
  },
  {
   "cell_type": "code",
   "execution_count": 77,
   "metadata": {
    "collapsed": false
   },
   "outputs": [
    {
     "data": {
      "image/png": "[encoded data removed]",
      "text/plain": [
       "<matplotlib.figure.Figure at 0x1cda580a160>"
      ]
     },
     "metadata": {},
     "output_type": "display_data"
    },
    {
     "data": {
      "image/png": "[encoded data removed]",
      "text/plain": [
       "<matplotlib.figure.Figure at 0x1cda6c05a90>"
      ]
     },
     "metadata": {},
     "output_type": "display_data"
    }
   ],
   "source": [
    "y = np.linspace(0.000001, 2.0, 1000)\n",
    "variable = age(0.3, 0, 1.7134, 0.000001, 2.0)\n",
    "plt.plot(variable, y)\n",
    "plt.title('Loitering Universe')\n",
    "plt.xlabel('t (Gyr)')\n",
    "plt.ylabel('a(t)')\n",
    "plt.show()\n",
    "\n",
    "y = np.linspace(0.000001, 3.0, 1000)\n",
    "variable = age(1.5, 0, 0, 0.000001, 3.0)\n",
    "plt.plot(variable, y)\n",
    "crunch = variable[999]*2.0\n",
    "plt.plot(-variable + crunch, y, color = 'b')\n",
    "plt.title('Crunchy Universe')\n",
    "plt.xlabel('t (Gyr)')\n",
    "plt.ylabel('a(t)')\n",
    "plt.show()"
   ]
  },
  {
   "cell_type": "markdown",
   "metadata": {},
   "source": [
    "**Problem 2:**"
   ]
  },
  {
   "cell_type": "markdown",
   "metadata": {},
   "source": [
    "**If a cluster of galaxies has a set of gravitational arcs (e.g. Einstein rings) we can use these arcs to calculate the mass internal to the inscribed circle. If we assume an isothermal sphere, show that the velocity dispersion of the cluster is related to the angle of the arc in the image by**\n",
    "\n",
    "**$\\sigma_\\nu \\approx 10^{3}kms^{-1}(\\frac{\\theta}{28\"}\\frac{D_s}{D_LS})^{1/2}$**\n",
    "\n",
    "**An isothermal sphere has a density profile:**\n",
    "**$\\rho(r) = \\frac{\\sigma^{2}_\\nu}{2 \\pi Gr^2}$**"
   ]
  },
  {
   "cell_type": "markdown",
   "metadata": {},
   "source": [
    "To find the total mass within the isothermal sphere we have to take the volume integral of the density profile:\n",
    "\n",
    "$\\int_{0}^{R} \\int_{0}^{\\pi} \\int_{0}^{2\\pi} \\frac{\\sigma_{\\nu}^{2}}{2 \\pi Gr^{2}} r^{2} \\sin{\\theta} d\\phi d\\theta dr$\n",
    " \n",
    "which gives: \n",
    "\n",
    "$m(r) = \\frac{2 \\sigma_{\\nu}^{2} R}{G}$\n",
    "\n",
    "\n",
    "Now we want to to solve for the mass internal to the inscribed circle (i.e. the Einstein ring). We can start with the equation:\n",
    "\n",
    "$m = \\frac{\\theta_{E}^{2} c^{2} D_{L}D_{S}}{4 G D_{LS}}$\n",
    "and set it equal to our equation $m(r) = \\frac{2 \\sigma_{\\nu}^{2} R}{G}$\n",
    "\n",
    "and solve for $\\sigma_{\\nu}^{2}$ which equals:\n",
    "\n",
    "$\\sigma_{\\nu}^{2} = \\frac{\\theta_{E}^{2} c^{2} D_{L}D_{S}}{8 R D_{LS}}$\n",
    "\n",
    "But since $\\theta$ is small we can say $\\theta \\approx \\frac{R}{D_{L}}$ or $R \\approx \\theta D_{L}$. Then our equation for $\\sigma_{\\nu}^{2}$ becomes:\n",
    "\n",
    "$\\sigma_{\\nu}^{2} \\approx \\frac{\\theta^{2} c^{2} D_{L}D_{S}}{8 \\theta D_{L} D_{LS}}$ \n",
    "\n",
    "which simplifies to \n",
    "$\\sigma_{\\nu}^{2} \\approx \\frac{\\theta c^{2} D_{S}}{8 D_{LS}}$ or **$\\sigma_{\\nu}^{2} \\approx c^2(\\frac{\\theta}{8}\\frac{D_s}{D_LS})^{1/2}$**\n",
    "\n",
    " \n",
    "Then if I convert from radians to arcseconds and take the square root it gives me the desired relation:\n",
    "\n",
    "**$\\sigma_\\nu = 10^{3}kms^{-1}(\\frac{\\theta}{28\"}\\frac{D_s}{D_LS})^{1/2}$**\n"
   ]
  },
  {
   "cell_type": "code",
   "execution_count": null,
   "metadata": {
    "collapsed": true
   },
   "outputs": [],
   "source": []
  }
 ],
 "metadata": {
  "kernelspec": {
   "display_name": "Python [Root]",
   "language": "python",
   "name": "Python [Root]"
  },
  "language_info": {
   "codemirror_mode": {
    "name": "ipython",
    "version": 3
   },
   "file_extension": ".py",
   "mimetype": "text/x-python",
   "name": "python",
   "nbconvert_exporter": "python",
   "pygments_lexer": "ipython3",
   "version": "3.5.2"
  }
 },
 "nbformat": 4,
 "nbformat_minor": 0
}
